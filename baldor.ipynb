{
 "cells": [
  {
   "cell_type": "code",
   "execution_count": 2,
   "id": "203baed5",
   "metadata": {},
   "outputs": [],
   "source": [
    "import sympy\n",
    "from fractions import Fraction\n",
    "import baldor"
   ]
  },
  {
   "cell_type": "code",
   "execution_count": 34,
   "id": "9ba9493b",
   "metadata": {},
   "outputs": [
    {
     "name": "stdout",
     "output_type": "stream",
     "text": [
      " 2            2\n",
      "x    5⋅x⋅y   y \n",
      "── + ───── + ──\n",
      "2      6     4 \n"
     ]
    }
   ],
   "source": [
    "# Ej 18 - Pg 45\n",
    "\n",
    "x, y = sympy.symbols('x y')\n",
    "\n",
    "a = sympy.Rational(1, 2)*x**2 + sympy.Rational(1, 3)*x*y + sympy.Rational(1, 2)*x*y + sympy.Rational(1,4)*y**2\n",
    "sympy.pprint(a)"
   ]
  },
  {
   "cell_type": "code",
   "execution_count": 15,
   "id": "c03ce1ee",
   "metadata": {},
   "outputs": [
    {
     "name": "stdout",
     "output_type": "stream",
     "text": [
      "19| Ej 1: 0\n",
      "19| Ej 2: -172\n",
      "19| Ej 3: 3811\n",
      "19| Ej 4: -1.0\n",
      "19| Ej 5: -15.0\n",
      "19| Ej 6: -42\n",
      "19| Ej 7: 1.6756, R_Baldor = 1.6756\n",
      "19| Ej 8: 21.0\n",
      "19| Ej 9: 0.4444, R_Baldor = 0.4444\n",
      "19| Ej 10: 2091\n",
      "19| Ej 11: 6.0\n",
      "19| Ej 12: -2.7235, R_Baldor = -2.7235\n",
      "19| Ej 13: 16.53, R_Baldor = 16.53\n",
      "19| Ej 14: 25.5\n",
      "Todas las respuestas correctas.\n"
     ]
    }
   ],
   "source": [
    "# Ej 19 - Pg 45\n",
    "\n",
    "# Variables\n",
    "a = 2\n",
    "b = 3\n",
    "c = 10\n",
    "x = 5\n",
    "y = 4\n",
    "m = 2/3\n",
    "n = 1/5\n",
    "\n",
    "# Ejercicios\n",
    "ejercicios19 = {\n",
    "    1: 4*x-5*y -3*x+6*y-8 -x+y,\n",
    "    2: x**2-5*x+8 -x**2+10*x-30 -6*x**2+5*x-50,\n",
    "    3: x**4-y**4 -5*x**2*y**2-8+2*x**4 -4*x**4+7*x**3*y+10*x*y**3,\n",
    "    4: 3*m-5*n+6 -6*m+8-20*n -20*n+12*m-12,\n",
    "    5: n*x+c*n-a*b -a*b+8*n*x-2*c*n -a*b+n*x-5,\n",
    "    6: a**3+b**3 -3*a**2*b+8*a*b**2-b**3 -5*a**3-6*a*b**2+8 +3*a**2*b-2*b**3,\n",
    "    7: 27*m**3+125*n**3 -9*m**2*n+25*m*n**2 -14*m*n**2-8 +11*m*n**2+10*m**2*n,\n",
    "    8: x**(a-1)+y**(b-2)+m**(x-4) +2*x**(a-1) -2*y**(b-2)-2*m**(x-4) +3*y**(b-2)-2*m**(x-4),\n",
    "    9: n**(b-1)-m**(x-3)+8 -5*n**(b-1)-3*m**(x-3)+10 +4*n**(b-1)+5*m**(x-3)-18,\n",
    "    10: x**3*y-x*y**3+5 +x**4-x**2*y**2+5*x**3*y-6 -6*x*y**3+x**2*y**2+2 \\\n",
    "        -y**4+3*x*y**3+1,\n",
    "    11: 3/4*a**2+2/3*b**2 -1/3*a*b+1/9*b**2 +1/6*a*b-1/3*b**2,\n",
    "    12: 9/17*m**2+25/34*n**2-1/4 -15*m*n+1/2 +5/17*n**2+7/34*m**2-1/4 \\\n",
    "        -7/34*m**2-30*m*n+3,\n",
    "    13: 1/2*b**2*m-3/5*c*n-2 +3/4*b**2*m+6-1/10*c*n -1/4*b**2*m+1/25*c*n+4 \\\n",
    "        +2*c*n+3/5-1/8*b**2*m,\n",
    "    14: 0.2*a**3+0.4*a*b**2-0.5*a**2*b -0.8*b**3+0.6*a*b**2-0.3*a**2*b \\\n",
    "        -0.4*a**3+6-0.8*a**2*b +0.2*a**3+0.9*b**3+1.5*a**2*b\n",
    "}\n",
    "\n",
    "# Mixtos a decimal para comparar\n",
    "mix_a_frac = {7: [1, 152, 225], 12: [-2, 123, 170], 13: [16, 53, 100]}\n",
    "\n",
    "# Fracciones a decimmal para comparar\n",
    "frac_a_dec = {9: [4/9]}\n",
    "\n",
    "# Bucle para extraer las respuestas y comparaciones de mixtos con Baldor\n",
    "for k, v in ejercicios19.items():\n",
    "    # Redondeo las respuestas a 4 decimales\n",
    "    v = round(v, 4)\n",
    "    if k in mix_a_frac:\n",
    "        # Convierto respuestas mixtas a decimales y redondeo\n",
    "        r_baldor = baldor.fraccion_mixta_a_decimal(*mix_a_frac[k])\n",
    "        r_baldor = round(r_baldor, 4)\n",
    "        # Mando a escribir las respuestas \n",
    "        print(f\"19| Ej {k}: {v}, R_Baldor = {r_baldor}\")\n",
    "    elif k in frac_a_dec:\n",
    "        # Convierto la fracción a decimal\n",
    "        r_baldor = frac_a_dec[k]\n",
    "        r_baldor = round(*r_baldor, 4)\n",
    "        # Mando a escribir las respuestas\n",
    "        print(f\"19| Ej {k}: {v}, R_Baldor = {r_baldor}\")\n",
    "    else:\n",
    "        print(f\"19| Ej {k}: {v}\")\n",
    "        \n",
    "print(\"Todas las respuestas correctas.\")"
   ]
  },
  {
   "cell_type": "code",
   "execution_count": null,
   "id": "20052981",
   "metadata": {},
   "outputs": [],
   "source": []
  }
 ],
 "metadata": {
  "kernelspec": {
   "display_name": "venv",
   "language": "python",
   "name": "python3"
  },
  "language_info": {
   "codemirror_mode": {
    "name": "ipython",
    "version": 3
   },
   "file_extension": ".py",
   "mimetype": "text/x-python",
   "name": "python",
   "nbconvert_exporter": "python",
   "pygments_lexer": "ipython3",
   "version": "3.13.3"
  }
 },
 "nbformat": 4,
 "nbformat_minor": 5
}
